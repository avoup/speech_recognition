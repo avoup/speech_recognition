{
 "cells": [
  {
   "cell_type": "code",
   "execution_count": 1,
   "id": "1e32aea4-26ed-4f71-8a7b-a0ed988ec624",
   "metadata": {},
   "outputs": [],
   "source": [
    "import os\n",
    "import pathlib\n",
    "import matplotlib.pyplot as plt\n",
    "import numpy as np\n",
    "\n",
    "import tensorflow as tf\n",
    "from tensorflow import keras\n",
    "from IPython.display import clear_output\n",
    "\n",
    "from audio_stream import record\n",
    "\n",
    "import tensorflow as tf\n",
    "import tensorflow_io as tfio\n",
    "\n",
    "from pynput.keyboard import Key, Controller"
   ]
  },
  {
   "cell_type": "code",
   "execution_count": 2,
   "id": "9db0ce8a-62b8-4217-8033-f49026f2791d",
   "metadata": {},
   "outputs": [],
   "source": [
    "def get_spectrogram(waveform, type=False):\n",
    "    zero_padding = tf.zeros([16000] - tf.shape(waveform), dtype=tf.float32)\n",
    "\n",
    "    waveform = tf.cast(waveform, tf.float32)\n",
    "\n",
    "    equal_length = tf.concat([waveform, zero_padding], 0)\n",
    "    stfts = tf.signal.stft(equal_length, frame_length=255, frame_step=128, fft_length=256)\n",
    "\n",
    "    spectrograms = tf.abs(stfts)\n",
    "    \n",
    "    if not type:\n",
    "        return spectrograms\n",
    "\n",
    "    batch_size, num_samples, sample_rate = 32, 16000, 16000.0\n",
    "\n",
    "    num_spectrogram_bins = stfts.shape[-1]\n",
    "    lower_edge_hertz, upper_edge_hertz, num_mel_bins = 80.0, 7600.0, 13\n",
    "    linear_to_mel_weight_matrix = tf.signal.linear_to_mel_weight_matrix(\n",
    "      num_mel_bins, num_spectrogram_bins, sample_rate, lower_edge_hertz,\n",
    "      upper_edge_hertz)\n",
    "\n",
    "    mel_spectrograms = tf.tensordot(spectrograms, linear_to_mel_weight_matrix, 1)\n",
    "\n",
    "    mel_spectrograms.set_shape(spectrograms.shape[:-1].concatenate(linear_to_mel_weight_matrix.shape[-1:]))\n",
    "\n",
    "    if type == 'mel': \n",
    "        return tf.abs(mel_spectrograms)\n",
    "    \n",
    "    log_mel_spectrograms = tf.math.log(mel_spectrograms + 1e-6)\n",
    "    \n",
    "    if type == 'log_mel':\n",
    "        return tf.abs(log_mel_spectrograms)\n",
    "    \n",
    "    mfccs = tf.signal.mfccs_from_log_mel_spectrograms(\n",
    "      log_mel_spectrograms)\n",
    "\n",
    "    return tf.abs(mfccs)\n",
    "\n",
    "def decode_audio(audio_binary):\n",
    "    audio, _ = tf.audio.decode_wav(audio_binary)\n",
    "    audio = tf.squeeze(audio, axis=-1)\n",
    "\n",
    "    # Fade out\n",
    "    audio = tfio.audio.fade(audio, fade_in=1000, fade_out=1000, mode=\"logarithmic\") \n",
    "    return audio\n",
    "\n",
    "def get_waveform(file_path):\n",
    "    audio_binary = tf.io.read_file(file_path)\n",
    "    waveform = decode_audio(audio_binary)\n",
    "    return waveform\n",
    "\n",
    "def plot_spectrogram(spectrogram, ax):\n",
    "    log_spec = np.log(spectrogram.T)\n",
    "    height = log_spec.shape[0]\n",
    "    width = log_spec.shape[1]\n",
    "    X = np.linspace(0, np.size(spectrogram), num=width, dtype=int)\n",
    "    Y = range(height)\n",
    "    ax.pcolormesh(X, Y, log_spec, shading='auto')"
   ]
  },
  {
   "cell_type": "code",
   "execution_count": 3,
   "id": "279b696f-e0b0-4ad3-b01f-3beebbdb66e8",
   "metadata": {},
   "outputs": [],
   "source": [
    "model = tf.keras.models.load_model('models/geo_augmented_1')\n",
    "\n",
    "commands = np.array(['ზევით', 'უკან', 'მარცხნივ', 'ქვევით', 'მარჯვნივ', 'წინ'])"
   ]
  },
  {
   "cell_type": "code",
   "execution_count": 4,
   "id": "a6598453-68e6-4868-a99b-b490be88f31d",
   "metadata": {},
   "outputs": [],
   "source": [
    "def keypress(key):\n",
    "    keyboard = Controller()\n",
    "    keyboard.press(key)\n",
    "    keyboard.release(key)"
   ]
  },
  {
   "cell_type": "code",
   "execution_count": 9,
   "id": "d2c5c66a-0d28-4d6d-b9e3-e773598ffcbf",
   "metadata": {},
   "outputs": [],
   "source": [
    "def predict(file_dir=False): \n",
    "    clear_output()\n",
    "    \n",
    "    audio_binary = tf.io.read_file(file_dir)\n",
    "    waveform = decode_audio(audio_binary)\n",
    "    \n",
    "    pure_spectrogram = get_spectrogram(waveform)\n",
    "    spectrogram = tf.expand_dims(pure_spectrogram, -1)\n",
    "    spectrogram = spectrogram[None, :, :, :]\n",
    "    \n",
    "    prediction = model.predict(spectrogram)\n",
    "    pred = tf.Variable(tf.nn.softmax(prediction)).numpy().tolist()[0]\n",
    "    index = pred.index(max(pred))\n",
    "    keyword = commands[index]\n",
    "    \n",
    "    if keyword == 'მარცხნივ':\n",
    "        keypress(Key.left)\n",
    "    elif keyword == 'მარჯვნივ':\n",
    "        keypress(Key.right)\n",
    "    elif keyword == 'ქვევით':\n",
    "        keypress(Key.down)\n",
    "    elif keyword == 'ზევით':\n",
    "        keypress(Key.up)\n",
    "    elif keyword == 'წინ':\n",
    "        keypress(Key.enter)\n",
    "    elif keyword == 'უკან':\n",
    "        keypress(Key.backspace)\n",
    "\n",
    "    plt.figure(figsize=(8, 2))\n",
    "    plot_spectrogram(pure_spectrogram.numpy(), plt.subplot(1, 2, 2))\n",
    "    plt.axis('off')\n",
    "\n",
    "    plt.subplot(1, 2, 1)\n",
    "    timescale = np.arange(waveform.shape[0])\n",
    "    plt.plot(timescale, waveform.numpy())\n",
    "    plt.ylim(-0.7, 0.7)\n",
    "    plt.axis('off')\n",
    "    plt.show()\n",
    "     \n",
    "    plt.figure(figsize=(8, 4))\n",
    "    plt.bar(commands, tf.nn.softmax(prediction[0]))\n",
    "    plt.show()\n",
    "    \n"
   ]
  },
  {
   "cell_type": "code",
   "execution_count": 12,
   "id": "eff5434a-37ab-40ac-8e2f-54771d69a7e5",
   "metadata": {},
   "outputs": [
    {
     "name": "stderr",
     "output_type": "stream",
     "text": [
      "<ipython-input-2-24da6ba5dd9f>:53: RuntimeWarning: divide by zero encountered in log\n",
      "  log_spec = np.log(spectrogram.T)\n"
     ]
    },
    {
     "data": {
      "image/png": "[encoded data removed]",
      "text/plain": [
       "<Figure size 576x144 with 2 Axes>"
      ]
     },
     "metadata": {
      "needs_background": "light"
     },
     "output_type": "display_data"
    },
    {
     "data": {
      "image/png": "[encoded data removed]",
      "text/plain": [
       "<Figure size 576x288 with 1 Axes>"
      ]
     },
     "metadata": {
      "needs_background": "light"
     },
     "output_type": "display_data"
    },
    {
     "ename": "KeyboardInterrupt",
     "evalue": "",
     "output_type": "error",
     "traceback": [
      "\u001b[0;31m---------------------------------------------------------------------------\u001b[0m",
      "\u001b[0;31mKeyboardInterrupt\u001b[0m                         Traceback (most recent call last)",
      "\u001b[0;32m<ipython-input-12-610530d6b427>\u001b[0m in \u001b[0;36m<module>\u001b[0;34m\u001b[0m\n\u001b[0;32m----> 1\u001b[0;31m \u001b[0mrecord\u001b[0m\u001b[0;34m(\u001b[0m\u001b[0mpredict\u001b[0m\u001b[0;34m,\u001b[0m \u001b[0;32mTrue\u001b[0m\u001b[0;34m)\u001b[0m \u001b[0;31m# live prediction\u001b[0m\u001b[0;34m\u001b[0m\u001b[0;34m\u001b[0m\u001b[0m\n\u001b[0m\u001b[1;32m      2\u001b[0m \u001b[0;31m# predict('data/record_data/test/1.wav') # Predict from file\u001b[0m\u001b[0;34m\u001b[0m\u001b[0;34m\u001b[0m\u001b[0;34m\u001b[0m\u001b[0m\n",
      "\u001b[0;32m~/Documents/jupyter/audio_stream.py\u001b[0m in \u001b[0;36mrecord\u001b[0;34m(callback, endless)\u001b[0m\n\u001b[1;32m     58\u001b[0m \u001b[0;34m\u001b[0m\u001b[0m\n\u001b[1;32m     59\u001b[0m     \u001b[0;32mwhile\u001b[0m \u001b[0;32mTrue\u001b[0m\u001b[0;34m:\u001b[0m\u001b[0;34m\u001b[0m\u001b[0;34m\u001b[0m\u001b[0m\n\u001b[0;32m---> 60\u001b[0;31m         \u001b[0mwaveform\u001b[0m \u001b[0;34m=\u001b[0m \u001b[0marray\u001b[0m\u001b[0;34m(\u001b[0m\u001b[0;34m'h'\u001b[0m\u001b[0;34m,\u001b[0m \u001b[0mstream\u001b[0m\u001b[0;34m.\u001b[0m\u001b[0mread\u001b[0m\u001b[0;34m(\u001b[0m\u001b[0mCHUNK_SIZE\u001b[0m\u001b[0;34m)\u001b[0m\u001b[0;34m)\u001b[0m\u001b[0;34m\u001b[0m\u001b[0;34m\u001b[0m\u001b[0m\n\u001b[0m\u001b[1;32m     61\u001b[0m         \u001b[0;32mif\u001b[0m \u001b[0mbyteorder\u001b[0m \u001b[0;34m==\u001b[0m \u001b[0;34m'big'\u001b[0m\u001b[0;34m:\u001b[0m\u001b[0;34m\u001b[0m\u001b[0;34m\u001b[0m\u001b[0m\n\u001b[1;32m     62\u001b[0m             \u001b[0mwaveform\u001b[0m\u001b[0;34m.\u001b[0m\u001b[0mbyteswap\u001b[0m\u001b[0;34m(\u001b[0m\u001b[0;34m)\u001b[0m\u001b[0;34m\u001b[0m\u001b[0;34m\u001b[0m\u001b[0m\n",
      "\u001b[0;32m/usr/lib/python3/dist-packages/pyaudio.py\u001b[0m in \u001b[0;36mread\u001b[0;34m(self, num_frames, exception_on_overflow)\u001b[0m\n\u001b[1;32m    606\u001b[0m                           paCanNotReadFromAnOutputOnlyStream)\n\u001b[1;32m    607\u001b[0m \u001b[0;34m\u001b[0m\u001b[0m\n\u001b[0;32m--> 608\u001b[0;31m         \u001b[0;32mreturn\u001b[0m \u001b[0mpa\u001b[0m\u001b[0;34m.\u001b[0m\u001b[0mread_stream\u001b[0m\u001b[0;34m(\u001b[0m\u001b[0mself\u001b[0m\u001b[0;34m.\u001b[0m\u001b[0m_stream\u001b[0m\u001b[0;34m,\u001b[0m \u001b[0mnum_frames\u001b[0m\u001b[0;34m,\u001b[0m \u001b[0mexception_on_overflow\u001b[0m\u001b[0;34m)\u001b[0m\u001b[0;34m\u001b[0m\u001b[0;34m\u001b[0m\u001b[0m\n\u001b[0m\u001b[1;32m    609\u001b[0m \u001b[0;34m\u001b[0m\u001b[0m\n\u001b[1;32m    610\u001b[0m     \u001b[0;32mdef\u001b[0m \u001b[0mget_read_available\u001b[0m\u001b[0;34m(\u001b[0m\u001b[0mself\u001b[0m\u001b[0;34m)\u001b[0m\u001b[0;34m:\u001b[0m\u001b[0;34m\u001b[0m\u001b[0;34m\u001b[0m\u001b[0m\n",
      "\u001b[0;31mKeyboardInterrupt\u001b[0m: "
     ]
    }
   ],
   "source": [
    "record(predict, True) # live prediction\n",
    "# predict('data/record_data/test/1.wav') # Predict from file"
   ]
  }
 ],
 "metadata": {
  "kernelspec": {
   "display_name": "Python 3",
   "language": "python",
   "name": "python3"
  },
  "language_info": {
   "codemirror_mode": {
    "name": "ipython",
    "version": 3
   },
   "file_extension": ".py",
   "mimetype": "text/x-python",
   "name": "python",
   "nbconvert_exporter": "python",
   "pygments_lexer": "ipython3",
   "version": "3.8.5"
  }
 },
 "nbformat": 4,
 "nbformat_minor": 5
}
